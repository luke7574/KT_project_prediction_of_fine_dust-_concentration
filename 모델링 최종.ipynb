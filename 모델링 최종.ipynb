{
  "cells": [
    {
      "cell_type": "markdown",
      "id": "2072748e",
      "metadata": {
        "id": "2072748e"
      },
      "source": [
        "## **AIVLE School 미니프로젝트 5기 AI트랙 2차** ##\n",
        "## **공공데이터를 활용한 <span style=\"color:skyblue\">미세먼지 농도</span> 예측**\n",
        "---"
      ]
    },
    {
      "cell_type": "markdown",
      "id": "71d4fac7",
      "metadata": {
        "id": "71d4fac7"
      },
      "source": [
        "## [step 3] 모델링"
      ]
    },
    {
      "cell_type": "markdown",
      "id": "428de2c9",
      "metadata": {
        "id": "428de2c9"
      },
      "source": [
        "## **0.프로젝트 소개**\n",
        "\n",
        "### (1) 수행 목표\n",
        "- 미세먼지 농도를 예측하는 머신러닝 모델을 만드세요."
      ]
    },
    {
      "cell_type": "markdown",
      "id": "673a15d8",
      "metadata": {
        "id": "673a15d8"
      },
      "source": [
        "#### 우리가 풀어야 하는 문제는 무엇인가요?\n",
        "* 서울 지역의 미세먼지 데이터와 날씨 데이터를 활용하여,\n",
        "미세먼지 예측에 관련 있는 데이터 항목으로 데이터를 구성, 전처리 하여\n",
        "미세먼지 농도를 예측하는 머신러닝 모델 구현\n"
      ]
    },
    {
      "cell_type": "markdown",
      "id": "69494029",
      "metadata": {
        "id": "69494029"
      },
      "source": [
        "### (2) 데이터 소개\n",
        "\n",
        "#### 1) 기본 데이터\n",
        "\n",
        "* 학습 데이터\n",
        "    * air_2022.csv : 2022년 미세먼지 데이터\n",
        "    * weather_2022.csv : 2022년 날씨 데이터\n",
        "* 테스트 데이터\n",
        "    * air_2023.csv : 2023년 미세먼지 데이터\n",
        "    * weather_2023.csv : 2023년 날씨 데이터\n",
        "\n",
        "#### 2) 데이터셋의 변수 소개(weather_2022,2023)\n",
        "\n",
        "* 증기압: 증기가 고체 또는 액체와 동적 평형 상태에 있을 때 증기의 압력 (증기가 되려는 힘)\n",
        "* 이슬점 온도: 불포화 상태의 공기가 냉각될 때, 포화 상태에 도달하여 수증기의 응결이 시작되는 온도\n",
        "* 일조: 일정한 물체나 땅의 겉면에 태양 광선이 비치는 시간 (1시간 중 비율)\n",
        "* 일사(량): 태양으로부터 오는 태양 복사 에너지가 지표에 닿는 양 (면적당 에너지 량)\n",
        "* 전운량: 하늘을 육안으로 관측하여 전부 구름일 때 10, 구름이 덮고 있는 하늘의 비율에 따라 0~10\n",
        "* 중하층운량: 중층과 하층에 있는 구름의 분포량(중하층 구름이 날씨에 영향 주므로 따로 표기)\n",
        "* 운형(운형약어): 구름의 종류. 약어 코드로 기재됨\n",
        "* 최저운고: 가장 낮은 구름의 높이\n",
        "* 현상번호(국내식): 비, 소낙비, 싸락눈, 눈보라 등의 기상현상을 나타낸 코드번호\n",
        "* 지면온도: 지면 0cm 온도\n",
        "* 지중온도: 땅 속 온도변수1"
      ]
    },
    {
      "cell_type": "markdown",
      "id": "bc18a997",
      "metadata": {
        "id": "bc18a997"
      },
      "source": [
        "## **1.환경설정**"
      ]
    },
    {
      "cell_type": "markdown",
      "id": "aa9b0b72",
      "metadata": {
        "id": "aa9b0b72"
      },
      "source": [
        "* 세부 요구사항\n",
        "    - 경로 설정 : 다음의 두가지 방법 중 하나를 선택하여 폴더를 준비하고 데이터를 로딩하시오.\n",
        "        * 1) 로컬 수행(Ananconda)\n",
        "            * 제공된 압축파일을 다운받아 압축을 풀고\n",
        "            * anaconda의 root directory(보통 C:/Users/< ID > 에 project 폴더를 만들고, 복사해 넣습니다.\n",
        "        * 2) 구글코랩\n",
        "            * 구글 드라이브 바로 밑에 project 폴더를 만들고,\n",
        "            * 데이터 파일을 복사해 넣습니다.\n",
        "            \n",
        "    - 기본적으로 필요한 라이브러리를 import 하도록 코드가 작성되어 있습니다.\n",
        "        * 필요하다고 판단되는 라이브러리를 추가하세요."
      ]
    },
    {
      "cell_type": "markdown",
      "id": "a47552a4",
      "metadata": {
        "id": "a47552a4"
      },
      "source": [
        "### (1) 경로 설정\n",
        "* 로컬환경 또는 구글 코랩 중 하나를 사용하시면 됩니다."
      ]
    },
    {
      "cell_type": "markdown",
      "id": "6aac7e46",
      "metadata": {
        "id": "6aac7e46"
      },
      "source": [
        "#### 1) 로컬 수행(Anaconda)\n",
        "* project 폴더에 필요한 파일들을 넣고, 본 파일을 열었다면, 별도 경로 지정이 필요하지 않습니다."
      ]
    },
    {
      "cell_type": "code",
      "execution_count": 1,
      "id": "dfe4ca4c",
      "metadata": {
        "id": "dfe4ca4c"
      },
      "outputs": [],
      "source": [
        "# path = 'C:/Users/User/project/'"
      ]
    },
    {
      "cell_type": "markdown",
      "id": "73dcba5a",
      "metadata": {
        "id": "73dcba5a"
      },
      "source": [
        "#### 2) 구글 코랩 수행"
      ]
    },
    {
      "cell_type": "markdown",
      "id": "6c4e499c",
      "metadata": {
        "id": "6c4e499c"
      },
      "source": [
        "* 구글 드라이브 연결"
      ]
    },
    {
      "cell_type": "code",
      "source": [
        "# colab 그래프 한글화 코드\n",
        "# jupyter 사용시 코드 주석처리 할 것.\n",
        "import seaborn as sns\n",
        "import matplotlib.pyplot as plt\n",
        "import matplotlib as mpl\n",
        "import warnings\n",
        "\n",
        "!sudo apt-get install -y fonts-nanum\n",
        "!sudo fc-cache -fv\n",
        "!rm ~/.cache/matplotlib -rf\n",
        "\n",
        "warnings.simplefilter(action='ignore', category=UserWarning)\n",
        "\n",
        "plt.rc('font', family='NanumBarunGothic')\n",
        "mpl.rcParams['axes.unicode_minus'] = False\n",
        "\n",
        "# colab - drive 연동\n",
        "from google.colab import drive\n",
        "drive.mount('/content/drive')"
      ],
      "metadata": {
        "colab": {
          "base_uri": "https://localhost:8080/"
        },
        "id": "BvVIiocaBqkB",
        "outputId": "999c685a-d54d-4391-8def-afc8b0ce223f"
      },
      "id": "BvVIiocaBqkB",
      "execution_count": 2,
      "outputs": [
        {
          "output_type": "stream",
          "name": "stdout",
          "text": [
            "Reading package lists... Done\n",
            "Building dependency tree... Done\n",
            "Reading state information... Done\n",
            "fonts-nanum is already the newest version (20200506-1).\n",
            "0 upgraded, 0 newly installed, 0 to remove and 38 not upgraded.\n",
            "/usr/share/fonts: caching, new cache contents: 0 fonts, 1 dirs\n",
            "/usr/share/fonts/truetype: caching, new cache contents: 0 fonts, 3 dirs\n",
            "/usr/share/fonts/truetype/humor-sans: caching, new cache contents: 1 fonts, 0 dirs\n",
            "/usr/share/fonts/truetype/liberation: caching, new cache contents: 16 fonts, 0 dirs\n",
            "/usr/share/fonts/truetype/nanum: caching, new cache contents: 12 fonts, 0 dirs\n",
            "/usr/local/share/fonts: caching, new cache contents: 0 fonts, 0 dirs\n",
            "/root/.local/share/fonts: skipping, no such directory\n",
            "/root/.fonts: skipping, no such directory\n",
            "/usr/share/fonts/truetype: skipping, looped directory detected\n",
            "/usr/share/fonts/truetype/humor-sans: skipping, looped directory detected\n",
            "/usr/share/fonts/truetype/liberation: skipping, looped directory detected\n",
            "/usr/share/fonts/truetype/nanum: skipping, looped directory detected\n",
            "/var/cache/fontconfig: cleaning cache directory\n",
            "/root/.cache/fontconfig: not cleaning non-existent cache directory\n",
            "/root/.fontconfig: not cleaning non-existent cache directory\n",
            "fc-cache: succeeded\n",
            "Drive already mounted at /content/drive; to attempt to forcibly remount, call drive.mount(\"/content/drive\", force_remount=True).\n"
          ]
        }
      ]
    },
    {
      "cell_type": "code",
      "source": [
        "path = '/content/drive/MyDrive/project/'"
      ],
      "metadata": {
        "id": "ehI7MNmmBtAt"
      },
      "id": "ehI7MNmmBtAt",
      "execution_count": 3,
      "outputs": []
    },
    {
      "cell_type": "markdown",
      "id": "effcb513",
      "metadata": {
        "id": "effcb513"
      },
      "source": [
        "### (2) 라이브러리 설치 및 불러오기"
      ]
    },
    {
      "cell_type": "markdown",
      "id": "66a50a8f",
      "metadata": {
        "id": "66a50a8f"
      },
      "source": [
        "#### 1) 라이브러리 설치 및 로딩"
      ]
    },
    {
      "cell_type": "code",
      "execution_count": 4,
      "id": "6c7ede7b",
      "metadata": {
        "id": "6c7ede7b"
      },
      "outputs": [],
      "source": [
        "# 필요한 라이브러리 설치 및 불러오기\n",
        "import pandas as pd\n",
        "import numpy as np\n",
        "import matplotlib.pyplot as plt\n",
        "import seaborn as sns\n",
        "import datetime\n",
        "\n",
        "from statsmodels.graphics.mosaicplot import mosaic\n",
        "from scipy import stats as spst\n",
        "import statsmodels.api as sm\n",
        "import joblib\n",
        "\n",
        "# 더 필요한 라이브러리를 아래에 추가합니다.\n",
        "\n",
        "import pandas as pd\n",
        "\n",
        "from sklearn.neighbors import KNeighborsRegressor\n",
        "from sklearn.linear_model import LinearRegression, Lasso, Ridge, ElasticNet\n",
        "from sklearn.tree import DecisionTreeRegressor as DTR\n",
        "from sklearn.ensemble import RandomForestRegressor as RFR\n",
        "from sklearn.ensemble import GradientBoostingRegressor as GBR\n",
        "from sklearn.metrics import mean_squared_error as mse\n",
        "from sklearn.metrics import r2_score\n",
        "from sklearn.metrics import f1_score\n",
        "from sklearn.metrics import accuracy_score as acc\n",
        "from sklearn.metrics import recall_score as recall\n",
        "import joblib"
      ]
    },
    {
      "cell_type": "code",
      "execution_count": 5,
      "id": "85064fd0",
      "metadata": {
        "id": "85064fd0"
      },
      "outputs": [],
      "source": [
        "# # 시각화 한글폰트 설정을 위해 아래 코드를 실행하세요.\n",
        "# plt.rc('font', family='Malgun Gothic')\n",
        "# sns.set(font=\"Malgun Gothic\",#\"NanumGothicCoding\",\n",
        "#         rc={\"axes.unicode_minus\":False}, # 마이너스 부호 깨짐 현상 해결\n",
        "#         style='darkgrid')"
      ]
    },
    {
      "cell_type": "markdown",
      "id": "2c10e691",
      "metadata": {
        "id": "2c10e691"
      },
      "source": [
        "### (3) 데이터 불러오기\n",
        "* 주어진 데이터셋\n",
        "    * 미세먼지 및 날씨 데이터 : train_x.csv / train_y.csv / test_x.csv / test_y.csv"
      ]
    },
    {
      "cell_type": "markdown",
      "id": "23ec5bb8",
      "metadata": {
        "id": "23ec5bb8"
      },
      "source": [
        "#### 1) 데이터 로딩"
      ]
    },
    {
      "cell_type": "code",
      "execution_count": 6,
      "id": "1b9cf763",
      "metadata": {
        "id": "1b9cf763"
      },
      "outputs": [],
      "source": [
        "# train_x.csv / train_y.csv / test_x.csv / test_y.csv 4개의 데이터 로딩\n",
        "train_x = pd.read_csv(path + 'train_x.csv')\n",
        "train_y = pd.read_csv(path + 'train_y.csv')\n",
        "test_x = pd.read_csv(path + 'test_x.csv')\n",
        "test_y = pd.read_csv(path + 'test_y.csv')\n"
      ]
    },
    {
      "cell_type": "markdown",
      "id": "bc1e7485",
      "metadata": {
        "id": "bc1e7485"
      },
      "source": [
        "#### 2) 기본 정보 조회\n",
        "* 로딩한 데이터의 기본 정보를 확인 합니다(info 등..)"
      ]
    },
    {
      "cell_type": "code",
      "source": [
        "# 아래에 실습코드를 작성하고 결과를 확인합니다.\n",
        "\n",
        "display(train_x.head(3))\n",
        "display(train_y.head(3))\n",
        "display(test_x.head(3))\n",
        "display(test_y.head(3))"
      ],
      "metadata": {
        "colab": {
          "base_uri": "https://localhost:8080/",
          "height": 581
        },
        "id": "FfsqLMtjCEMP",
        "outputId": "2a3bac40-2ec2-481f-d943-ebd5bd685817"
      },
      "id": "FfsqLMtjCEMP",
      "execution_count": 7,
      "outputs": [
        {
          "output_type": "display_data",
          "data": {
            "text/plain": [
              "     SO2   CO    NO2  PM10  PM25  기온(°C)  강수량(mm)  풍속(m/s)  풍향(16방위)  습도(%)  \\\n",
              "0  0.003  0.4  0.016  23.0  12.0    -8.5      0.0      1.9       320     41   \n",
              "1  0.003  0.4  0.020  20.0   9.0    -9.2      0.0      1.8       270     42   \n",
              "2  0.003  0.5  0.028  20.0   9.0    -9.5      0.0      1.2       270     43   \n",
              "\n",
              "   ...  전운량(10분위)  중하층운량(10분위)  최저운고(100m )  시정(10m)  지면온도(°C)  5cm 지중온도(°C)  \\\n",
              "0  ...          0            0         35.0     2000      -7.0          -1.0   \n",
              "1  ...          0            0         35.0     2000      -7.2          -1.1   \n",
              "2  ...          0            0         35.0     2000      -7.5          -1.3   \n",
              "\n",
              "   month  day  hour  전일_미세먼지_농도_변수  \n",
              "0      1    1     0           23.0  \n",
              "1      1    1     1           23.0  \n",
              "2      1    1     2           23.0  \n",
              "\n",
              "[3 rows x 25 columns]"
            ],
            "text/html": [
              "\n",
              "  <div id=\"df-7f75f454-bf3e-4b59-bd03-c814bfaac552\" class=\"colab-df-container\">\n",
              "    <div>\n",
              "<style scoped>\n",
              "    .dataframe tbody tr th:only-of-type {\n",
              "        vertical-align: middle;\n",
              "    }\n",
              "\n",
              "    .dataframe tbody tr th {\n",
              "        vertical-align: top;\n",
              "    }\n",
              "\n",
              "    .dataframe thead th {\n",
              "        text-align: right;\n",
              "    }\n",
              "</style>\n",
              "<table border=\"1\" class=\"dataframe\">\n",
              "  <thead>\n",
              "    <tr style=\"text-align: right;\">\n",
              "      <th></th>\n",
              "      <th>SO2</th>\n",
              "      <th>CO</th>\n",
              "      <th>NO2</th>\n",
              "      <th>PM10</th>\n",
              "      <th>PM25</th>\n",
              "      <th>기온(°C)</th>\n",
              "      <th>강수량(mm)</th>\n",
              "      <th>풍속(m/s)</th>\n",
              "      <th>풍향(16방위)</th>\n",
              "      <th>습도(%)</th>\n",
              "      <th>...</th>\n",
              "      <th>전운량(10분위)</th>\n",
              "      <th>중하층운량(10분위)</th>\n",
              "      <th>최저운고(100m )</th>\n",
              "      <th>시정(10m)</th>\n",
              "      <th>지면온도(°C)</th>\n",
              "      <th>5cm 지중온도(°C)</th>\n",
              "      <th>month</th>\n",
              "      <th>day</th>\n",
              "      <th>hour</th>\n",
              "      <th>전일_미세먼지_농도_변수</th>\n",
              "    </tr>\n",
              "  </thead>\n",
              "  <tbody>\n",
              "    <tr>\n",
              "      <th>0</th>\n",
              "      <td>0.003</td>\n",
              "      <td>0.4</td>\n",
              "      <td>0.016</td>\n",
              "      <td>23.0</td>\n",
              "      <td>12.0</td>\n",
              "      <td>-8.5</td>\n",
              "      <td>0.0</td>\n",
              "      <td>1.9</td>\n",
              "      <td>320</td>\n",
              "      <td>41</td>\n",
              "      <td>...</td>\n",
              "      <td>0</td>\n",
              "      <td>0</td>\n",
              "      <td>35.0</td>\n",
              "      <td>2000</td>\n",
              "      <td>-7.0</td>\n",
              "      <td>-1.0</td>\n",
              "      <td>1</td>\n",
              "      <td>1</td>\n",
              "      <td>0</td>\n",
              "      <td>23.0</td>\n",
              "    </tr>\n",
              "    <tr>\n",
              "      <th>1</th>\n",
              "      <td>0.003</td>\n",
              "      <td>0.4</td>\n",
              "      <td>0.020</td>\n",
              "      <td>20.0</td>\n",
              "      <td>9.0</td>\n",
              "      <td>-9.2</td>\n",
              "      <td>0.0</td>\n",
              "      <td>1.8</td>\n",
              "      <td>270</td>\n",
              "      <td>42</td>\n",
              "      <td>...</td>\n",
              "      <td>0</td>\n",
              "      <td>0</td>\n",
              "      <td>35.0</td>\n",
              "      <td>2000</td>\n",
              "      <td>-7.2</td>\n",
              "      <td>-1.1</td>\n",
              "      <td>1</td>\n",
              "      <td>1</td>\n",
              "      <td>1</td>\n",
              "      <td>23.0</td>\n",
              "    </tr>\n",
              "    <tr>\n",
              "      <th>2</th>\n",
              "      <td>0.003</td>\n",
              "      <td>0.5</td>\n",
              "      <td>0.028</td>\n",
              "      <td>20.0</td>\n",
              "      <td>9.0</td>\n",
              "      <td>-9.5</td>\n",
              "      <td>0.0</td>\n",
              "      <td>1.2</td>\n",
              "      <td>270</td>\n",
              "      <td>43</td>\n",
              "      <td>...</td>\n",
              "      <td>0</td>\n",
              "      <td>0</td>\n",
              "      <td>35.0</td>\n",
              "      <td>2000</td>\n",
              "      <td>-7.5</td>\n",
              "      <td>-1.3</td>\n",
              "      <td>1</td>\n",
              "      <td>1</td>\n",
              "      <td>2</td>\n",
              "      <td>23.0</td>\n",
              "    </tr>\n",
              "  </tbody>\n",
              "</table>\n",
              "<p>3 rows × 25 columns</p>\n",
              "</div>\n",
              "    <div class=\"colab-df-buttons\">\n",
              "\n",
              "  <div class=\"colab-df-container\">\n",
              "    <button class=\"colab-df-convert\" onclick=\"convertToInteractive('df-7f75f454-bf3e-4b59-bd03-c814bfaac552')\"\n",
              "            title=\"Convert this dataframe to an interactive table.\"\n",
              "            style=\"display:none;\">\n",
              "\n",
              "  <svg xmlns=\"http://www.w3.org/2000/svg\" height=\"24px\" viewBox=\"0 -960 960 960\">\n",
              "    <path d=\"M120-120v-720h720v720H120Zm60-500h600v-160H180v160Zm220 220h160v-160H400v160Zm0 220h160v-160H400v160ZM180-400h160v-160H180v160Zm440 0h160v-160H620v160ZM180-180h160v-160H180v160Zm440 0h160v-160H620v160Z\"/>\n",
              "  </svg>\n",
              "    </button>\n",
              "\n",
              "  <style>\n",
              "    .colab-df-container {\n",
              "      display:flex;\n",
              "      gap: 12px;\n",
              "    }\n",
              "\n",
              "    .colab-df-convert {\n",
              "      background-color: #E8F0FE;\n",
              "      border: none;\n",
              "      border-radius: 50%;\n",
              "      cursor: pointer;\n",
              "      display: none;\n",
              "      fill: #1967D2;\n",
              "      height: 32px;\n",
              "      padding: 0 0 0 0;\n",
              "      width: 32px;\n",
              "    }\n",
              "\n",
              "    .colab-df-convert:hover {\n",
              "      background-color: #E2EBFA;\n",
              "      box-shadow: 0px 1px 2px rgba(60, 64, 67, 0.3), 0px 1px 3px 1px rgba(60, 64, 67, 0.15);\n",
              "      fill: #174EA6;\n",
              "    }\n",
              "\n",
              "    .colab-df-buttons div {\n",
              "      margin-bottom: 4px;\n",
              "    }\n",
              "\n",
              "    [theme=dark] .colab-df-convert {\n",
              "      background-color: #3B4455;\n",
              "      fill: #D2E3FC;\n",
              "    }\n",
              "\n",
              "    [theme=dark] .colab-df-convert:hover {\n",
              "      background-color: #434B5C;\n",
              "      box-shadow: 0px 1px 3px 1px rgba(0, 0, 0, 0.15);\n",
              "      filter: drop-shadow(0px 1px 2px rgba(0, 0, 0, 0.3));\n",
              "      fill: #FFFFFF;\n",
              "    }\n",
              "  </style>\n",
              "\n",
              "    <script>\n",
              "      const buttonEl =\n",
              "        document.querySelector('#df-7f75f454-bf3e-4b59-bd03-c814bfaac552 button.colab-df-convert');\n",
              "      buttonEl.style.display =\n",
              "        google.colab.kernel.accessAllowed ? 'block' : 'none';\n",
              "\n",
              "      async function convertToInteractive(key) {\n",
              "        const element = document.querySelector('#df-7f75f454-bf3e-4b59-bd03-c814bfaac552');\n",
              "        const dataTable =\n",
              "          await google.colab.kernel.invokeFunction('convertToInteractive',\n",
              "                                                    [key], {});\n",
              "        if (!dataTable) return;\n",
              "\n",
              "        const docLinkHtml = 'Like what you see? Visit the ' +\n",
              "          '<a target=\"_blank\" href=https://colab.research.google.com/notebooks/data_table.ipynb>data table notebook</a>'\n",
              "          + ' to learn more about interactive tables.';\n",
              "        element.innerHTML = '';\n",
              "        dataTable['output_type'] = 'display_data';\n",
              "        await google.colab.output.renderOutput(dataTable, element);\n",
              "        const docLink = document.createElement('div');\n",
              "        docLink.innerHTML = docLinkHtml;\n",
              "        element.appendChild(docLink);\n",
              "      }\n",
              "    </script>\n",
              "  </div>\n",
              "\n",
              "\n",
              "<div id=\"df-a166b1b4-5b69-4ac6-92e9-fdb65084b99f\">\n",
              "  <button class=\"colab-df-quickchart\" onclick=\"quickchart('df-a166b1b4-5b69-4ac6-92e9-fdb65084b99f')\"\n",
              "            title=\"Suggest charts\"\n",
              "            style=\"display:none;\">\n",
              "\n",
              "<svg xmlns=\"http://www.w3.org/2000/svg\" height=\"24px\"viewBox=\"0 0 24 24\"\n",
              "     width=\"24px\">\n",
              "    <g>\n",
              "        <path d=\"M19 3H5c-1.1 0-2 .9-2 2v14c0 1.1.9 2 2 2h14c1.1 0 2-.9 2-2V5c0-1.1-.9-2-2-2zM9 17H7v-7h2v7zm4 0h-2V7h2v10zm4 0h-2v-4h2v4z\"/>\n",
              "    </g>\n",
              "</svg>\n",
              "  </button>\n",
              "\n",
              "<style>\n",
              "  .colab-df-quickchart {\n",
              "      --bg-color: #E8F0FE;\n",
              "      --fill-color: #1967D2;\n",
              "      --hover-bg-color: #E2EBFA;\n",
              "      --hover-fill-color: #174EA6;\n",
              "      --disabled-fill-color: #AAA;\n",
              "      --disabled-bg-color: #DDD;\n",
              "  }\n",
              "\n",
              "  [theme=dark] .colab-df-quickchart {\n",
              "      --bg-color: #3B4455;\n",
              "      --fill-color: #D2E3FC;\n",
              "      --hover-bg-color: #434B5C;\n",
              "      --hover-fill-color: #FFFFFF;\n",
              "      --disabled-bg-color: #3B4455;\n",
              "      --disabled-fill-color: #666;\n",
              "  }\n",
              "\n",
              "  .colab-df-quickchart {\n",
              "    background-color: var(--bg-color);\n",
              "    border: none;\n",
              "    border-radius: 50%;\n",
              "    cursor: pointer;\n",
              "    display: none;\n",
              "    fill: var(--fill-color);\n",
              "    height: 32px;\n",
              "    padding: 0;\n",
              "    width: 32px;\n",
              "  }\n",
              "\n",
              "  .colab-df-quickchart:hover {\n",
              "    background-color: var(--hover-bg-color);\n",
              "    box-shadow: 0 1px 2px rgba(60, 64, 67, 0.3), 0 1px 3px 1px rgba(60, 64, 67, 0.15);\n",
              "    fill: var(--button-hover-fill-color);\n",
              "  }\n",
              "\n",
              "  .colab-df-quickchart-complete:disabled,\n",
              "  .colab-df-quickchart-complete:disabled:hover {\n",
              "    background-color: var(--disabled-bg-color);\n",
              "    fill: var(--disabled-fill-color);\n",
              "    box-shadow: none;\n",
              "  }\n",
              "\n",
              "  .colab-df-spinner {\n",
              "    border: 2px solid var(--fill-color);\n",
              "    border-color: transparent;\n",
              "    border-bottom-color: var(--fill-color);\n",
              "    animation:\n",
              "      spin 1s steps(1) infinite;\n",
              "  }\n",
              "\n",
              "  @keyframes spin {\n",
              "    0% {\n",
              "      border-color: transparent;\n",
              "      border-bottom-color: var(--fill-color);\n",
              "      border-left-color: var(--fill-color);\n",
              "    }\n",
              "    20% {\n",
              "      border-color: transparent;\n",
              "      border-left-color: var(--fill-color);\n",
              "      border-top-color: var(--fill-color);\n",
              "    }\n",
              "    30% {\n",
              "      border-color: transparent;\n",
              "      border-left-color: var(--fill-color);\n",
              "      border-top-color: var(--fill-color);\n",
              "      border-right-color: var(--fill-color);\n",
              "    }\n",
              "    40% {\n",
              "      border-color: transparent;\n",
              "      border-right-color: var(--fill-color);\n",
              "      border-top-color: var(--fill-color);\n",
              "    }\n",
              "    60% {\n",
              "      border-color: transparent;\n",
              "      border-right-color: var(--fill-color);\n",
              "    }\n",
              "    80% {\n",
              "      border-color: transparent;\n",
              "      border-right-color: var(--fill-color);\n",
              "      border-bottom-color: var(--fill-color);\n",
              "    }\n",
              "    90% {\n",
              "      border-color: transparent;\n",
              "      border-bottom-color: var(--fill-color);\n",
              "    }\n",
              "  }\n",
              "</style>\n",
              "\n",
              "  <script>\n",
              "    async function quickchart(key) {\n",
              "      const quickchartButtonEl =\n",
              "        document.querySelector('#' + key + ' button');\n",
              "      quickchartButtonEl.disabled = true;  // To prevent multiple clicks.\n",
              "      quickchartButtonEl.classList.add('colab-df-spinner');\n",
              "      try {\n",
              "        const charts = await google.colab.kernel.invokeFunction(\n",
              "            'suggestCharts', [key], {});\n",
              "      } catch (error) {\n",
              "        console.error('Error during call to suggestCharts:', error);\n",
              "      }\n",
              "      quickchartButtonEl.classList.remove('colab-df-spinner');\n",
              "      quickchartButtonEl.classList.add('colab-df-quickchart-complete');\n",
              "    }\n",
              "    (() => {\n",
              "      let quickchartButtonEl =\n",
              "        document.querySelector('#df-a166b1b4-5b69-4ac6-92e9-fdb65084b99f button');\n",
              "      quickchartButtonEl.style.display =\n",
              "        google.colab.kernel.accessAllowed ? 'block' : 'none';\n",
              "    })();\n",
              "  </script>\n",
              "</div>\n",
              "\n",
              "    </div>\n",
              "  </div>\n"
            ],
            "application/vnd.google.colaboratory.intrinsic+json": {
              "type": "dataframe"
            }
          },
          "metadata": {}
        },
        {
          "output_type": "display_data",
          "data": {
            "text/plain": [
              "   PM10_1\n",
              "0    20.0\n",
              "1    20.0\n",
              "2    19.0"
            ],
            "text/html": [
              "\n",
              "  <div id=\"df-bc3f8d49-2144-4b18-8684-b24ff651aa39\" class=\"colab-df-container\">\n",
              "    <div>\n",
              "<style scoped>\n",
              "    .dataframe tbody tr th:only-of-type {\n",
              "        vertical-align: middle;\n",
              "    }\n",
              "\n",
              "    .dataframe tbody tr th {\n",
              "        vertical-align: top;\n",
              "    }\n",
              "\n",
              "    .dataframe thead th {\n",
              "        text-align: right;\n",
              "    }\n",
              "</style>\n",
              "<table border=\"1\" class=\"dataframe\">\n",
              "  <thead>\n",
              "    <tr style=\"text-align: right;\">\n",
              "      <th></th>\n",
              "      <th>PM10_1</th>\n",
              "    </tr>\n",
              "  </thead>\n",
              "  <tbody>\n",
              "    <tr>\n",
              "      <th>0</th>\n",
              "      <td>20.0</td>\n",
              "    </tr>\n",
              "    <tr>\n",
              "      <th>1</th>\n",
              "      <td>20.0</td>\n",
              "    </tr>\n",
              "    <tr>\n",
              "      <th>2</th>\n",
              "      <td>19.0</td>\n",
              "    </tr>\n",
              "  </tbody>\n",
              "</table>\n",
              "</div>\n",
              "    <div class=\"colab-df-buttons\">\n",
              "\n",
              "  <div class=\"colab-df-container\">\n",
              "    <button class=\"colab-df-convert\" onclick=\"convertToInteractive('df-bc3f8d49-2144-4b18-8684-b24ff651aa39')\"\n",
              "            title=\"Convert this dataframe to an interactive table.\"\n",
              "            style=\"display:none;\">\n",
              "\n",
              "  <svg xmlns=\"http://www.w3.org/2000/svg\" height=\"24px\" viewBox=\"0 -960 960 960\">\n",
              "    <path d=\"M120-120v-720h720v720H120Zm60-500h600v-160H180v160Zm220 220h160v-160H400v160Zm0 220h160v-160H400v160ZM180-400h160v-160H180v160Zm440 0h160v-160H620v160ZM180-180h160v-160H180v160Zm440 0h160v-160H620v160Z\"/>\n",
              "  </svg>\n",
              "    </button>\n",
              "\n",
              "  <style>\n",
              "    .colab-df-container {\n",
              "      display:flex;\n",
              "      gap: 12px;\n",
              "    }\n",
              "\n",
              "    .colab-df-convert {\n",
              "      background-color: #E8F0FE;\n",
              "      border: none;\n",
              "      border-radius: 50%;\n",
              "      cursor: pointer;\n",
              "      display: none;\n",
              "      fill: #1967D2;\n",
              "      height: 32px;\n",
              "      padding: 0 0 0 0;\n",
              "      width: 32px;\n",
              "    }\n",
              "\n",
              "    .colab-df-convert:hover {\n",
              "      background-color: #E2EBFA;\n",
              "      box-shadow: 0px 1px 2px rgba(60, 64, 67, 0.3), 0px 1px 3px 1px rgba(60, 64, 67, 0.15);\n",
              "      fill: #174EA6;\n",
              "    }\n",
              "\n",
              "    .colab-df-buttons div {\n",
              "      margin-bottom: 4px;\n",
              "    }\n",
              "\n",
              "    [theme=dark] .colab-df-convert {\n",
              "      background-color: #3B4455;\n",
              "      fill: #D2E3FC;\n",
              "    }\n",
              "\n",
              "    [theme=dark] .colab-df-convert:hover {\n",
              "      background-color: #434B5C;\n",
              "      box-shadow: 0px 1px 3px 1px rgba(0, 0, 0, 0.15);\n",
              "      filter: drop-shadow(0px 1px 2px rgba(0, 0, 0, 0.3));\n",
              "      fill: #FFFFFF;\n",
              "    }\n",
              "  </style>\n",
              "\n",
              "    <script>\n",
              "      const buttonEl =\n",
              "        document.querySelector('#df-bc3f8d49-2144-4b18-8684-b24ff651aa39 button.colab-df-convert');\n",
              "      buttonEl.style.display =\n",
              "        google.colab.kernel.accessAllowed ? 'block' : 'none';\n",
              "\n",
              "      async function convertToInteractive(key) {\n",
              "        const element = document.querySelector('#df-bc3f8d49-2144-4b18-8684-b24ff651aa39');\n",
              "        const dataTable =\n",
              "          await google.colab.kernel.invokeFunction('convertToInteractive',\n",
              "                                                    [key], {});\n",
              "        if (!dataTable) return;\n",
              "\n",
              "        const docLinkHtml = 'Like what you see? Visit the ' +\n",
              "          '<a target=\"_blank\" href=https://colab.research.google.com/notebooks/data_table.ipynb>data table notebook</a>'\n",
              "          + ' to learn more about interactive tables.';\n",
              "        element.innerHTML = '';\n",
              "        dataTable['output_type'] = 'display_data';\n",
              "        await google.colab.output.renderOutput(dataTable, element);\n",
              "        const docLink = document.createElement('div');\n",
              "        docLink.innerHTML = docLinkHtml;\n",
              "        element.appendChild(docLink);\n",
              "      }\n",
              "    </script>\n",
              "  </div>\n",
              "\n",
              "\n",
              "<div id=\"df-165037be-2dc3-4c3c-bce2-361427fe969b\">\n",
              "  <button class=\"colab-df-quickchart\" onclick=\"quickchart('df-165037be-2dc3-4c3c-bce2-361427fe969b')\"\n",
              "            title=\"Suggest charts\"\n",
              "            style=\"display:none;\">\n",
              "\n",
              "<svg xmlns=\"http://www.w3.org/2000/svg\" height=\"24px\"viewBox=\"0 0 24 24\"\n",
              "     width=\"24px\">\n",
              "    <g>\n",
              "        <path d=\"M19 3H5c-1.1 0-2 .9-2 2v14c0 1.1.9 2 2 2h14c1.1 0 2-.9 2-2V5c0-1.1-.9-2-2-2zM9 17H7v-7h2v7zm4 0h-2V7h2v10zm4 0h-2v-4h2v4z\"/>\n",
              "    </g>\n",
              "</svg>\n",
              "  </button>\n",
              "\n",
              "<style>\n",
              "  .colab-df-quickchart {\n",
              "      --bg-color: #E8F0FE;\n",
              "      --fill-color: #1967D2;\n",
              "      --hover-bg-color: #E2EBFA;\n",
              "      --hover-fill-color: #174EA6;\n",
              "      --disabled-fill-color: #AAA;\n",
              "      --disabled-bg-color: #DDD;\n",
              "  }\n",
              "\n",
              "  [theme=dark] .colab-df-quickchart {\n",
              "      --bg-color: #3B4455;\n",
              "      --fill-color: #D2E3FC;\n",
              "      --hover-bg-color: #434B5C;\n",
              "      --hover-fill-color: #FFFFFF;\n",
              "      --disabled-bg-color: #3B4455;\n",
              "      --disabled-fill-color: #666;\n",
              "  }\n",
              "\n",
              "  .colab-df-quickchart {\n",
              "    background-color: var(--bg-color);\n",
              "    border: none;\n",
              "    border-radius: 50%;\n",
              "    cursor: pointer;\n",
              "    display: none;\n",
              "    fill: var(--fill-color);\n",
              "    height: 32px;\n",
              "    padding: 0;\n",
              "    width: 32px;\n",
              "  }\n",
              "\n",
              "  .colab-df-quickchart:hover {\n",
              "    background-color: var(--hover-bg-color);\n",
              "    box-shadow: 0 1px 2px rgba(60, 64, 67, 0.3), 0 1px 3px 1px rgba(60, 64, 67, 0.15);\n",
              "    fill: var(--button-hover-fill-color);\n",
              "  }\n",
              "\n",
              "  .colab-df-quickchart-complete:disabled,\n",
              "  .colab-df-quickchart-complete:disabled:hover {\n",
              "    background-color: var(--disabled-bg-color);\n",
              "    fill: var(--disabled-fill-color);\n",
              "    box-shadow: none;\n",
              "  }\n",
              "\n",
              "  .colab-df-spinner {\n",
              "    border: 2px solid var(--fill-color);\n",
              "    border-color: transparent;\n",
              "    border-bottom-color: var(--fill-color);\n",
              "    animation:\n",
              "      spin 1s steps(1) infinite;\n",
              "  }\n",
              "\n",
              "  @keyframes spin {\n",
              "    0% {\n",
              "      border-color: transparent;\n",
              "      border-bottom-color: var(--fill-color);\n",
              "      border-left-color: var(--fill-color);\n",
              "    }\n",
              "    20% {\n",
              "      border-color: transparent;\n",
              "      border-left-color: var(--fill-color);\n",
              "      border-top-color: var(--fill-color);\n",
              "    }\n",
              "    30% {\n",
              "      border-color: transparent;\n",
              "      border-left-color: var(--fill-color);\n",
              "      border-top-color: var(--fill-color);\n",
              "      border-right-color: var(--fill-color);\n",
              "    }\n",
              "    40% {\n",
              "      border-color: transparent;\n",
              "      border-right-color: var(--fill-color);\n",
              "      border-top-color: var(--fill-color);\n",
              "    }\n",
              "    60% {\n",
              "      border-color: transparent;\n",
              "      border-right-color: var(--fill-color);\n",
              "    }\n",
              "    80% {\n",
              "      border-color: transparent;\n",
              "      border-right-color: var(--fill-color);\n",
              "      border-bottom-color: var(--fill-color);\n",
              "    }\n",
              "    90% {\n",
              "      border-color: transparent;\n",
              "      border-bottom-color: var(--fill-color);\n",
              "    }\n",
              "  }\n",
              "</style>\n",
              "\n",
              "  <script>\n",
              "    async function quickchart(key) {\n",
              "      const quickchartButtonEl =\n",
              "        document.querySelector('#' + key + ' button');\n",
              "      quickchartButtonEl.disabled = true;  // To prevent multiple clicks.\n",
              "      quickchartButtonEl.classList.add('colab-df-spinner');\n",
              "      try {\n",
              "        const charts = await google.colab.kernel.invokeFunction(\n",
              "            'suggestCharts', [key], {});\n",
              "      } catch (error) {\n",
              "        console.error('Error during call to suggestCharts:', error);\n",
              "      }\n",
              "      quickchartButtonEl.classList.remove('colab-df-spinner');\n",
              "      quickchartButtonEl.classList.add('colab-df-quickchart-complete');\n",
              "    }\n",
              "    (() => {\n",
              "      let quickchartButtonEl =\n",
              "        document.querySelector('#df-165037be-2dc3-4c3c-bce2-361427fe969b button');\n",
              "      quickchartButtonEl.style.display =\n",
              "        google.colab.kernel.accessAllowed ? 'block' : 'none';\n",
              "    })();\n",
              "  </script>\n",
              "</div>\n",
              "\n",
              "    </div>\n",
              "  </div>\n"
            ],
            "application/vnd.google.colaboratory.intrinsic+json": {
              "type": "dataframe",
              "summary": "{\n  \"name\": \"display(test_y\",\n  \"rows\": 3,\n  \"fields\": [\n    {\n      \"column\": \"PM10_1\",\n      \"properties\": {\n        \"dtype\": \"number\",\n        \"std\": 0.5773502691896258,\n        \"min\": 19.0,\n        \"max\": 20.0,\n        \"num_unique_values\": 2,\n        \"samples\": [\n          19.0,\n          20.0\n        ],\n        \"semantic_type\": \"\",\n        \"description\": \"\"\n      }\n    }\n  ]\n}"
            }
          },
          "metadata": {}
        },
        {
          "output_type": "display_data",
          "data": {
            "text/plain": [
              "     SO2   CO    NO2  PM10  PM25  기온(°C)  강수량(mm)  풍속(m/s)  풍향(16방위)  습도(%)  \\\n",
              "0  0.005  1.4  0.064  68.0  58.0     0.9      0.0      1.4       200     72   \n",
              "1  0.004  1.4  0.061  64.0  50.0     1.5      0.0      1.9       250     71   \n",
              "2  0.004  1.0  0.051  67.0  56.0     1.5      0.0      1.9       250     72   \n",
              "\n",
              "   ...  전운량(10분위)  중하층운량(10분위)  최저운고(100m )  시정(10m)  지면온도(°C)  5cm 지중온도(°C)  \\\n",
              "0  ...          9            9         12.0     1503      -1.6          -0.3   \n",
              "1  ...          6            6         12.0     1104      -1.4          -0.3   \n",
              "2  ...          9            8         11.0      925      -1.6          -0.3   \n",
              "\n",
              "   month  day  hour  전일_미세먼지_농도_변수  \n",
              "0      1    1     0           68.0  \n",
              "1      1    1     1           68.0  \n",
              "2      1    1     2           68.0  \n",
              "\n",
              "[3 rows x 25 columns]"
            ],
            "text/html": [
              "\n",
              "  <div id=\"df-f564c7c3-cb00-4729-ba3f-fb0fe7984459\" class=\"colab-df-container\">\n",
              "    <div>\n",
              "<style scoped>\n",
              "    .dataframe tbody tr th:only-of-type {\n",
              "        vertical-align: middle;\n",
              "    }\n",
              "\n",
              "    .dataframe tbody tr th {\n",
              "        vertical-align: top;\n",
              "    }\n",
              "\n",
              "    .dataframe thead th {\n",
              "        text-align: right;\n",
              "    }\n",
              "</style>\n",
              "<table border=\"1\" class=\"dataframe\">\n",
              "  <thead>\n",
              "    <tr style=\"text-align: right;\">\n",
              "      <th></th>\n",
              "      <th>SO2</th>\n",
              "      <th>CO</th>\n",
              "      <th>NO2</th>\n",
              "      <th>PM10</th>\n",
              "      <th>PM25</th>\n",
              "      <th>기온(°C)</th>\n",
              "      <th>강수량(mm)</th>\n",
              "      <th>풍속(m/s)</th>\n",
              "      <th>풍향(16방위)</th>\n",
              "      <th>습도(%)</th>\n",
              "      <th>...</th>\n",
              "      <th>전운량(10분위)</th>\n",
              "      <th>중하층운량(10분위)</th>\n",
              "      <th>최저운고(100m )</th>\n",
              "      <th>시정(10m)</th>\n",
              "      <th>지면온도(°C)</th>\n",
              "      <th>5cm 지중온도(°C)</th>\n",
              "      <th>month</th>\n",
              "      <th>day</th>\n",
              "      <th>hour</th>\n",
              "      <th>전일_미세먼지_농도_변수</th>\n",
              "    </tr>\n",
              "  </thead>\n",
              "  <tbody>\n",
              "    <tr>\n",
              "      <th>0</th>\n",
              "      <td>0.005</td>\n",
              "      <td>1.4</td>\n",
              "      <td>0.064</td>\n",
              "      <td>68.0</td>\n",
              "      <td>58.0</td>\n",
              "      <td>0.9</td>\n",
              "      <td>0.0</td>\n",
              "      <td>1.4</td>\n",
              "      <td>200</td>\n",
              "      <td>72</td>\n",
              "      <td>...</td>\n",
              "      <td>9</td>\n",
              "      <td>9</td>\n",
              "      <td>12.0</td>\n",
              "      <td>1503</td>\n",
              "      <td>-1.6</td>\n",
              "      <td>-0.3</td>\n",
              "      <td>1</td>\n",
              "      <td>1</td>\n",
              "      <td>0</td>\n",
              "      <td>68.0</td>\n",
              "    </tr>\n",
              "    <tr>\n",
              "      <th>1</th>\n",
              "      <td>0.004</td>\n",
              "      <td>1.4</td>\n",
              "      <td>0.061</td>\n",
              "      <td>64.0</td>\n",
              "      <td>50.0</td>\n",
              "      <td>1.5</td>\n",
              "      <td>0.0</td>\n",
              "      <td>1.9</td>\n",
              "      <td>250</td>\n",
              "      <td>71</td>\n",
              "      <td>...</td>\n",
              "      <td>6</td>\n",
              "      <td>6</td>\n",
              "      <td>12.0</td>\n",
              "      <td>1104</td>\n",
              "      <td>-1.4</td>\n",
              "      <td>-0.3</td>\n",
              "      <td>1</td>\n",
              "      <td>1</td>\n",
              "      <td>1</td>\n",
              "      <td>68.0</td>\n",
              "    </tr>\n",
              "    <tr>\n",
              "      <th>2</th>\n",
              "      <td>0.004</td>\n",
              "      <td>1.0</td>\n",
              "      <td>0.051</td>\n",
              "      <td>67.0</td>\n",
              "      <td>56.0</td>\n",
              "      <td>1.5</td>\n",
              "      <td>0.0</td>\n",
              "      <td>1.9</td>\n",
              "      <td>250</td>\n",
              "      <td>72</td>\n",
              "      <td>...</td>\n",
              "      <td>9</td>\n",
              "      <td>8</td>\n",
              "      <td>11.0</td>\n",
              "      <td>925</td>\n",
              "      <td>-1.6</td>\n",
              "      <td>-0.3</td>\n",
              "      <td>1</td>\n",
              "      <td>1</td>\n",
              "      <td>2</td>\n",
              "      <td>68.0</td>\n",
              "    </tr>\n",
              "  </tbody>\n",
              "</table>\n",
              "<p>3 rows × 25 columns</p>\n",
              "</div>\n",
              "    <div class=\"colab-df-buttons\">\n",
              "\n",
              "  <div class=\"colab-df-container\">\n",
              "    <button class=\"colab-df-convert\" onclick=\"convertToInteractive('df-f564c7c3-cb00-4729-ba3f-fb0fe7984459')\"\n",
              "            title=\"Convert this dataframe to an interactive table.\"\n",
              "            style=\"display:none;\">\n",
              "\n",
              "  <svg xmlns=\"http://www.w3.org/2000/svg\" height=\"24px\" viewBox=\"0 -960 960 960\">\n",
              "    <path d=\"M120-120v-720h720v720H120Zm60-500h600v-160H180v160Zm220 220h160v-160H400v160Zm0 220h160v-160H400v160ZM180-400h160v-160H180v160Zm440 0h160v-160H620v160ZM180-180h160v-160H180v160Zm440 0h160v-160H620v160Z\"/>\n",
              "  </svg>\n",
              "    </button>\n",
              "\n",
              "  <style>\n",
              "    .colab-df-container {\n",
              "      display:flex;\n",
              "      gap: 12px;\n",
              "    }\n",
              "\n",
              "    .colab-df-convert {\n",
              "      background-color: #E8F0FE;\n",
              "      border: none;\n",
              "      border-radius: 50%;\n",
              "      cursor: pointer;\n",
              "      display: none;\n",
              "      fill: #1967D2;\n",
              "      height: 32px;\n",
              "      padding: 0 0 0 0;\n",
              "      width: 32px;\n",
              "    }\n",
              "\n",
              "    .colab-df-convert:hover {\n",
              "      background-color: #E2EBFA;\n",
              "      box-shadow: 0px 1px 2px rgba(60, 64, 67, 0.3), 0px 1px 3px 1px rgba(60, 64, 67, 0.15);\n",
              "      fill: #174EA6;\n",
              "    }\n",
              "\n",
              "    .colab-df-buttons div {\n",
              "      margin-bottom: 4px;\n",
              "    }\n",
              "\n",
              "    [theme=dark] .colab-df-convert {\n",
              "      background-color: #3B4455;\n",
              "      fill: #D2E3FC;\n",
              "    }\n",
              "\n",
              "    [theme=dark] .colab-df-convert:hover {\n",
              "      background-color: #434B5C;\n",
              "      box-shadow: 0px 1px 3px 1px rgba(0, 0, 0, 0.15);\n",
              "      filter: drop-shadow(0px 1px 2px rgba(0, 0, 0, 0.3));\n",
              "      fill: #FFFFFF;\n",
              "    }\n",
              "  </style>\n",
              "\n",
              "    <script>\n",
              "      const buttonEl =\n",
              "        document.querySelector('#df-f564c7c3-cb00-4729-ba3f-fb0fe7984459 button.colab-df-convert');\n",
              "      buttonEl.style.display =\n",
              "        google.colab.kernel.accessAllowed ? 'block' : 'none';\n",
              "\n",
              "      async function convertToInteractive(key) {\n",
              "        const element = document.querySelector('#df-f564c7c3-cb00-4729-ba3f-fb0fe7984459');\n",
              "        const dataTable =\n",
              "          await google.colab.kernel.invokeFunction('convertToInteractive',\n",
              "                                                    [key], {});\n",
              "        if (!dataTable) return;\n",
              "\n",
              "        const docLinkHtml = 'Like what you see? Visit the ' +\n",
              "          '<a target=\"_blank\" href=https://colab.research.google.com/notebooks/data_table.ipynb>data table notebook</a>'\n",
              "          + ' to learn more about interactive tables.';\n",
              "        element.innerHTML = '';\n",
              "        dataTable['output_type'] = 'display_data';\n",
              "        await google.colab.output.renderOutput(dataTable, element);\n",
              "        const docLink = document.createElement('div');\n",
              "        docLink.innerHTML = docLinkHtml;\n",
              "        element.appendChild(docLink);\n",
              "      }\n",
              "    </script>\n",
              "  </div>\n",
              "\n",
              "\n",
              "<div id=\"df-f375294d-f20b-49d3-83b5-2940f5e707d1\">\n",
              "  <button class=\"colab-df-quickchart\" onclick=\"quickchart('df-f375294d-f20b-49d3-83b5-2940f5e707d1')\"\n",
              "            title=\"Suggest charts\"\n",
              "            style=\"display:none;\">\n",
              "\n",
              "<svg xmlns=\"http://www.w3.org/2000/svg\" height=\"24px\"viewBox=\"0 0 24 24\"\n",
              "     width=\"24px\">\n",
              "    <g>\n",
              "        <path d=\"M19 3H5c-1.1 0-2 .9-2 2v14c0 1.1.9 2 2 2h14c1.1 0 2-.9 2-2V5c0-1.1-.9-2-2-2zM9 17H7v-7h2v7zm4 0h-2V7h2v10zm4 0h-2v-4h2v4z\"/>\n",
              "    </g>\n",
              "</svg>\n",
              "  </button>\n",
              "\n",
              "<style>\n",
              "  .colab-df-quickchart {\n",
              "      --bg-color: #E8F0FE;\n",
              "      --fill-color: #1967D2;\n",
              "      --hover-bg-color: #E2EBFA;\n",
              "      --hover-fill-color: #174EA6;\n",
              "      --disabled-fill-color: #AAA;\n",
              "      --disabled-bg-color: #DDD;\n",
              "  }\n",
              "\n",
              "  [theme=dark] .colab-df-quickchart {\n",
              "      --bg-color: #3B4455;\n",
              "      --fill-color: #D2E3FC;\n",
              "      --hover-bg-color: #434B5C;\n",
              "      --hover-fill-color: #FFFFFF;\n",
              "      --disabled-bg-color: #3B4455;\n",
              "      --disabled-fill-color: #666;\n",
              "  }\n",
              "\n",
              "  .colab-df-quickchart {\n",
              "    background-color: var(--bg-color);\n",
              "    border: none;\n",
              "    border-radius: 50%;\n",
              "    cursor: pointer;\n",
              "    display: none;\n",
              "    fill: var(--fill-color);\n",
              "    height: 32px;\n",
              "    padding: 0;\n",
              "    width: 32px;\n",
              "  }\n",
              "\n",
              "  .colab-df-quickchart:hover {\n",
              "    background-color: var(--hover-bg-color);\n",
              "    box-shadow: 0 1px 2px rgba(60, 64, 67, 0.3), 0 1px 3px 1px rgba(60, 64, 67, 0.15);\n",
              "    fill: var(--button-hover-fill-color);\n",
              "  }\n",
              "\n",
              "  .colab-df-quickchart-complete:disabled,\n",
              "  .colab-df-quickchart-complete:disabled:hover {\n",
              "    background-color: var(--disabled-bg-color);\n",
              "    fill: var(--disabled-fill-color);\n",
              "    box-shadow: none;\n",
              "  }\n",
              "\n",
              "  .colab-df-spinner {\n",
              "    border: 2px solid var(--fill-color);\n",
              "    border-color: transparent;\n",
              "    border-bottom-color: var(--fill-color);\n",
              "    animation:\n",
              "      spin 1s steps(1) infinite;\n",
              "  }\n",
              "\n",
              "  @keyframes spin {\n",
              "    0% {\n",
              "      border-color: transparent;\n",
              "      border-bottom-color: var(--fill-color);\n",
              "      border-left-color: var(--fill-color);\n",
              "    }\n",
              "    20% {\n",
              "      border-color: transparent;\n",
              "      border-left-color: var(--fill-color);\n",
              "      border-top-color: var(--fill-color);\n",
              "    }\n",
              "    30% {\n",
              "      border-color: transparent;\n",
              "      border-left-color: var(--fill-color);\n",
              "      border-top-color: var(--fill-color);\n",
              "      border-right-color: var(--fill-color);\n",
              "    }\n",
              "    40% {\n",
              "      border-color: transparent;\n",
              "      border-right-color: var(--fill-color);\n",
              "      border-top-color: var(--fill-color);\n",
              "    }\n",
              "    60% {\n",
              "      border-color: transparent;\n",
              "      border-right-color: var(--fill-color);\n",
              "    }\n",
              "    80% {\n",
              "      border-color: transparent;\n",
              "      border-right-color: var(--fill-color);\n",
              "      border-bottom-color: var(--fill-color);\n",
              "    }\n",
              "    90% {\n",
              "      border-color: transparent;\n",
              "      border-bottom-color: var(--fill-color);\n",
              "    }\n",
              "  }\n",
              "</style>\n",
              "\n",
              "  <script>\n",
              "    async function quickchart(key) {\n",
              "      const quickchartButtonEl =\n",
              "        document.querySelector('#' + key + ' button');\n",
              "      quickchartButtonEl.disabled = true;  // To prevent multiple clicks.\n",
              "      quickchartButtonEl.classList.add('colab-df-spinner');\n",
              "      try {\n",
              "        const charts = await google.colab.kernel.invokeFunction(\n",
              "            'suggestCharts', [key], {});\n",
              "      } catch (error) {\n",
              "        console.error('Error during call to suggestCharts:', error);\n",
              "      }\n",
              "      quickchartButtonEl.classList.remove('colab-df-spinner');\n",
              "      quickchartButtonEl.classList.add('colab-df-quickchart-complete');\n",
              "    }\n",
              "    (() => {\n",
              "      let quickchartButtonEl =\n",
              "        document.querySelector('#df-f375294d-f20b-49d3-83b5-2940f5e707d1 button');\n",
              "      quickchartButtonEl.style.display =\n",
              "        google.colab.kernel.accessAllowed ? 'block' : 'none';\n",
              "    })();\n",
              "  </script>\n",
              "</div>\n",
              "\n",
              "    </div>\n",
              "  </div>\n"
            ],
            "application/vnd.google.colaboratory.intrinsic+json": {
              "type": "dataframe"
            }
          },
          "metadata": {}
        },
        {
          "output_type": "display_data",
          "data": {
            "text/plain": [
              "   PM10_1\n",
              "0    64.0\n",
              "1    67.0\n",
              "2    76.0"
            ],
            "text/html": [
              "\n",
              "  <div id=\"df-007f965e-7978-488e-91a0-ed03705ce69a\" class=\"colab-df-container\">\n",
              "    <div>\n",
              "<style scoped>\n",
              "    .dataframe tbody tr th:only-of-type {\n",
              "        vertical-align: middle;\n",
              "    }\n",
              "\n",
              "    .dataframe tbody tr th {\n",
              "        vertical-align: top;\n",
              "    }\n",
              "\n",
              "    .dataframe thead th {\n",
              "        text-align: right;\n",
              "    }\n",
              "</style>\n",
              "<table border=\"1\" class=\"dataframe\">\n",
              "  <thead>\n",
              "    <tr style=\"text-align: right;\">\n",
              "      <th></th>\n",
              "      <th>PM10_1</th>\n",
              "    </tr>\n",
              "  </thead>\n",
              "  <tbody>\n",
              "    <tr>\n",
              "      <th>0</th>\n",
              "      <td>64.0</td>\n",
              "    </tr>\n",
              "    <tr>\n",
              "      <th>1</th>\n",
              "      <td>67.0</td>\n",
              "    </tr>\n",
              "    <tr>\n",
              "      <th>2</th>\n",
              "      <td>76.0</td>\n",
              "    </tr>\n",
              "  </tbody>\n",
              "</table>\n",
              "</div>\n",
              "    <div class=\"colab-df-buttons\">\n",
              "\n",
              "  <div class=\"colab-df-container\">\n",
              "    <button class=\"colab-df-convert\" onclick=\"convertToInteractive('df-007f965e-7978-488e-91a0-ed03705ce69a')\"\n",
              "            title=\"Convert this dataframe to an interactive table.\"\n",
              "            style=\"display:none;\">\n",
              "\n",
              "  <svg xmlns=\"http://www.w3.org/2000/svg\" height=\"24px\" viewBox=\"0 -960 960 960\">\n",
              "    <path d=\"M120-120v-720h720v720H120Zm60-500h600v-160H180v160Zm220 220h160v-160H400v160Zm0 220h160v-160H400v160ZM180-400h160v-160H180v160Zm440 0h160v-160H620v160ZM180-180h160v-160H180v160Zm440 0h160v-160H620v160Z\"/>\n",
              "  </svg>\n",
              "    </button>\n",
              "\n",
              "  <style>\n",
              "    .colab-df-container {\n",
              "      display:flex;\n",
              "      gap: 12px;\n",
              "    }\n",
              "\n",
              "    .colab-df-convert {\n",
              "      background-color: #E8F0FE;\n",
              "      border: none;\n",
              "      border-radius: 50%;\n",
              "      cursor: pointer;\n",
              "      display: none;\n",
              "      fill: #1967D2;\n",
              "      height: 32px;\n",
              "      padding: 0 0 0 0;\n",
              "      width: 32px;\n",
              "    }\n",
              "\n",
              "    .colab-df-convert:hover {\n",
              "      background-color: #E2EBFA;\n",
              "      box-shadow: 0px 1px 2px rgba(60, 64, 67, 0.3), 0px 1px 3px 1px rgba(60, 64, 67, 0.15);\n",
              "      fill: #174EA6;\n",
              "    }\n",
              "\n",
              "    .colab-df-buttons div {\n",
              "      margin-bottom: 4px;\n",
              "    }\n",
              "\n",
              "    [theme=dark] .colab-df-convert {\n",
              "      background-color: #3B4455;\n",
              "      fill: #D2E3FC;\n",
              "    }\n",
              "\n",
              "    [theme=dark] .colab-df-convert:hover {\n",
              "      background-color: #434B5C;\n",
              "      box-shadow: 0px 1px 3px 1px rgba(0, 0, 0, 0.15);\n",
              "      filter: drop-shadow(0px 1px 2px rgba(0, 0, 0, 0.3));\n",
              "      fill: #FFFFFF;\n",
              "    }\n",
              "  </style>\n",
              "\n",
              "    <script>\n",
              "      const buttonEl =\n",
              "        document.querySelector('#df-007f965e-7978-488e-91a0-ed03705ce69a button.colab-df-convert');\n",
              "      buttonEl.style.display =\n",
              "        google.colab.kernel.accessAllowed ? 'block' : 'none';\n",
              "\n",
              "      async function convertToInteractive(key) {\n",
              "        const element = document.querySelector('#df-007f965e-7978-488e-91a0-ed03705ce69a');\n",
              "        const dataTable =\n",
              "          await google.colab.kernel.invokeFunction('convertToInteractive',\n",
              "                                                    [key], {});\n",
              "        if (!dataTable) return;\n",
              "\n",
              "        const docLinkHtml = 'Like what you see? Visit the ' +\n",
              "          '<a target=\"_blank\" href=https://colab.research.google.com/notebooks/data_table.ipynb>data table notebook</a>'\n",
              "          + ' to learn more about interactive tables.';\n",
              "        element.innerHTML = '';\n",
              "        dataTable['output_type'] = 'display_data';\n",
              "        await google.colab.output.renderOutput(dataTable, element);\n",
              "        const docLink = document.createElement('div');\n",
              "        docLink.innerHTML = docLinkHtml;\n",
              "        element.appendChild(docLink);\n",
              "      }\n",
              "    </script>\n",
              "  </div>\n",
              "\n",
              "\n",
              "<div id=\"df-1b54a0e1-9d6a-43ca-9355-19c13f89834c\">\n",
              "  <button class=\"colab-df-quickchart\" onclick=\"quickchart('df-1b54a0e1-9d6a-43ca-9355-19c13f89834c')\"\n",
              "            title=\"Suggest charts\"\n",
              "            style=\"display:none;\">\n",
              "\n",
              "<svg xmlns=\"http://www.w3.org/2000/svg\" height=\"24px\"viewBox=\"0 0 24 24\"\n",
              "     width=\"24px\">\n",
              "    <g>\n",
              "        <path d=\"M19 3H5c-1.1 0-2 .9-2 2v14c0 1.1.9 2 2 2h14c1.1 0 2-.9 2-2V5c0-1.1-.9-2-2-2zM9 17H7v-7h2v7zm4 0h-2V7h2v10zm4 0h-2v-4h2v4z\"/>\n",
              "    </g>\n",
              "</svg>\n",
              "  </button>\n",
              "\n",
              "<style>\n",
              "  .colab-df-quickchart {\n",
              "      --bg-color: #E8F0FE;\n",
              "      --fill-color: #1967D2;\n",
              "      --hover-bg-color: #E2EBFA;\n",
              "      --hover-fill-color: #174EA6;\n",
              "      --disabled-fill-color: #AAA;\n",
              "      --disabled-bg-color: #DDD;\n",
              "  }\n",
              "\n",
              "  [theme=dark] .colab-df-quickchart {\n",
              "      --bg-color: #3B4455;\n",
              "      --fill-color: #D2E3FC;\n",
              "      --hover-bg-color: #434B5C;\n",
              "      --hover-fill-color: #FFFFFF;\n",
              "      --disabled-bg-color: #3B4455;\n",
              "      --disabled-fill-color: #666;\n",
              "  }\n",
              "\n",
              "  .colab-df-quickchart {\n",
              "    background-color: var(--bg-color);\n",
              "    border: none;\n",
              "    border-radius: 50%;\n",
              "    cursor: pointer;\n",
              "    display: none;\n",
              "    fill: var(--fill-color);\n",
              "    height: 32px;\n",
              "    padding: 0;\n",
              "    width: 32px;\n",
              "  }\n",
              "\n",
              "  .colab-df-quickchart:hover {\n",
              "    background-color: var(--hover-bg-color);\n",
              "    box-shadow: 0 1px 2px rgba(60, 64, 67, 0.3), 0 1px 3px 1px rgba(60, 64, 67, 0.15);\n",
              "    fill: var(--button-hover-fill-color);\n",
              "  }\n",
              "\n",
              "  .colab-df-quickchart-complete:disabled,\n",
              "  .colab-df-quickchart-complete:disabled:hover {\n",
              "    background-color: var(--disabled-bg-color);\n",
              "    fill: var(--disabled-fill-color);\n",
              "    box-shadow: none;\n",
              "  }\n",
              "\n",
              "  .colab-df-spinner {\n",
              "    border: 2px solid var(--fill-color);\n",
              "    border-color: transparent;\n",
              "    border-bottom-color: var(--fill-color);\n",
              "    animation:\n",
              "      spin 1s steps(1) infinite;\n",
              "  }\n",
              "\n",
              "  @keyframes spin {\n",
              "    0% {\n",
              "      border-color: transparent;\n",
              "      border-bottom-color: var(--fill-color);\n",
              "      border-left-color: var(--fill-color);\n",
              "    }\n",
              "    20% {\n",
              "      border-color: transparent;\n",
              "      border-left-color: var(--fill-color);\n",
              "      border-top-color: var(--fill-color);\n",
              "    }\n",
              "    30% {\n",
              "      border-color: transparent;\n",
              "      border-left-color: var(--fill-color);\n",
              "      border-top-color: var(--fill-color);\n",
              "      border-right-color: var(--fill-color);\n",
              "    }\n",
              "    40% {\n",
              "      border-color: transparent;\n",
              "      border-right-color: var(--fill-color);\n",
              "      border-top-color: var(--fill-color);\n",
              "    }\n",
              "    60% {\n",
              "      border-color: transparent;\n",
              "      border-right-color: var(--fill-color);\n",
              "    }\n",
              "    80% {\n",
              "      border-color: transparent;\n",
              "      border-right-color: var(--fill-color);\n",
              "      border-bottom-color: var(--fill-color);\n",
              "    }\n",
              "    90% {\n",
              "      border-color: transparent;\n",
              "      border-bottom-color: var(--fill-color);\n",
              "    }\n",
              "  }\n",
              "</style>\n",
              "\n",
              "  <script>\n",
              "    async function quickchart(key) {\n",
              "      const quickchartButtonEl =\n",
              "        document.querySelector('#' + key + ' button');\n",
              "      quickchartButtonEl.disabled = true;  // To prevent multiple clicks.\n",
              "      quickchartButtonEl.classList.add('colab-df-spinner');\n",
              "      try {\n",
              "        const charts = await google.colab.kernel.invokeFunction(\n",
              "            'suggestCharts', [key], {});\n",
              "      } catch (error) {\n",
              "        console.error('Error during call to suggestCharts:', error);\n",
              "      }\n",
              "      quickchartButtonEl.classList.remove('colab-df-spinner');\n",
              "      quickchartButtonEl.classList.add('colab-df-quickchart-complete');\n",
              "    }\n",
              "    (() => {\n",
              "      let quickchartButtonEl =\n",
              "        document.querySelector('#df-1b54a0e1-9d6a-43ca-9355-19c13f89834c button');\n",
              "      quickchartButtonEl.style.display =\n",
              "        google.colab.kernel.accessAllowed ? 'block' : 'none';\n",
              "    })();\n",
              "  </script>\n",
              "</div>\n",
              "\n",
              "    </div>\n",
              "  </div>\n"
            ],
            "application/vnd.google.colaboratory.intrinsic+json": {
              "type": "dataframe",
              "summary": "{\n  \"name\": \"display(test_y\",\n  \"rows\": 3,\n  \"fields\": [\n    {\n      \"column\": \"PM10_1\",\n      \"properties\": {\n        \"dtype\": \"number\",\n        \"std\": 6.244997998398398,\n        \"min\": 64.0,\n        \"max\": 76.0,\n        \"num_unique_values\": 3,\n        \"samples\": [\n          64.0,\n          67.0,\n          76.0\n        ],\n        \"semantic_type\": \"\",\n        \"description\": \"\"\n      }\n    }\n  ]\n}"
            }
          },
          "metadata": {}
        }
      ]
    },
    {
      "cell_type": "code",
      "execution_count": 8,
      "id": "d8cc7d75",
      "metadata": {
        "id": "d8cc7d75"
      },
      "outputs": [],
      "source": [
        "# 아래에 실습코드를 작성하고 결과를 확인합니다.\n",
        "\n"
      ]
    },
    {
      "cell_type": "markdown",
      "id": "20aaca37-89d7-4045-affa-5a510c69495e",
      "metadata": {
        "tags": [],
        "id": "20aaca37-89d7-4045-affa-5a510c69495e"
      },
      "source": [
        "## **2.머신러닝 모델링**"
      ]
    },
    {
      "cell_type": "markdown",
      "id": "66dca0e8-a0d1-4562-8afe-3e8f85733393",
      "metadata": {
        "tags": [],
        "id": "66dca0e8-a0d1-4562-8afe-3e8f85733393"
      },
      "source": [
        "### (1) 모델링: LinearRegression"
      ]
    },
    {
      "cell_type": "markdown",
      "id": "joined-client",
      "metadata": {
        "id": "joined-client"
      },
      "source": [
        "* Train과 Test로 나눈 데이터를 기준으로 LinearRegression 모델링을 진행하고 평가를 해주세요.\n",
        "* 그리고 모델 파일을 pkl로 저장해주세요.\n",
        "* 성능지표 : MSE, R-squared Score(소수점 5째자리까지)"
      ]
    },
    {
      "cell_type": "code",
      "execution_count": 9,
      "id": "willing-disclaimer",
      "metadata": {
        "id": "willing-disclaimer"
      },
      "outputs": [],
      "source": [
        "# LinearRegression 코드를 작성하세요.\n",
        "\n",
        "from sklearn.linear_model import LinearRegression\n",
        "from sklearn.metrics import *"
      ]
    },
    {
      "cell_type": "code",
      "execution_count": 10,
      "id": "34e3d420-703f-4de5-bd81-4b1b167318e2",
      "metadata": {
        "id": "34e3d420-703f-4de5-bd81-4b1b167318e2"
      },
      "outputs": [],
      "source": [
        "# predict로 예측하여 y_pred_LR에 저장해보세요.\n",
        "lr_model = LinearRegression()\n",
        "\n",
        "lr_model.fit(train_x, train_y)\n",
        "\n",
        "y_pred_LR = lr_model.predict(test_x)"
      ]
    },
    {
      "cell_type": "code",
      "execution_count": 11,
      "id": "0a21d60f",
      "metadata": {
        "colab": {
          "base_uri": "https://localhost:8080/"
        },
        "id": "0a21d60f",
        "outputId": "817bd17b-27fa-4056-c645-0c843905215b"
      },
      "outputs": [
        {
          "output_type": "stream",
          "name": "stdout",
          "text": [
            "45.45472134682317\n",
            "3.967940570733932\n",
            "0.9594346581825952\n"
          ]
        }
      ],
      "source": [
        "# test_y 데이터와 y_pred_LR 데이터로 성능을 평가하여 출력해보세요.\n",
        "# 성능지표는 mse와 r2를 이용하세요.\n",
        "\n",
        "print(mean_squared_error(test_y, y_pred_LR))\n",
        "print(mean_absolute_error(test_y, y_pred_LR))\n",
        "print(r2_score(test_y, y_pred_LR))"
      ]
    },
    {
      "cell_type": "code",
      "execution_count": 12,
      "id": "fe2096b7",
      "metadata": {
        "colab": {
          "base_uri": "https://localhost:8080/"
        },
        "id": "fe2096b7",
        "outputId": "b0716569-17de-4c54-aaef-2e219ed7869d"
      },
      "outputs": [
        {
          "output_type": "execute_result",
          "data": {
            "text/plain": [
              "['/content/drive/MyDrive/project/save_models/lr_model.pkl']"
            ]
          },
          "metadata": {},
          "execution_count": 12
        }
      ],
      "source": [
        "# 학습한 모델을 pkl 파일로 저장해보세요.(joblib 활용)\n",
        "joblib.dump(lr_model, path + 'save_models/lr_model.pkl')"
      ]
    },
    {
      "cell_type": "markdown",
      "id": "44e1265e-939a-41d6-87cd-98211da2b7d1",
      "metadata": {
        "tags": [],
        "id": "44e1265e-939a-41d6-87cd-98211da2b7d1"
      },
      "source": [
        "### (2) 모델링: 랜덤포레스트"
      ]
    },
    {
      "cell_type": "markdown",
      "id": "crazy-escape",
      "metadata": {
        "id": "crazy-escape"
      },
      "source": [
        "* 랜덤포레스트: 배깅의 일종으로 의사결정나무(Decision Tree) 여러 개를 모아서 숲을 랜덤으로 구성하고 이를 종합해서 최종 모델을 산출하는 기법\n",
        "* Train과 Test로 나눈 데이터를 기준으로 렌덤포레스트로 모델을 학습을 진행하고 평가를 해주세요.\n",
        "* 그리고 모델 파일을 pkl로 저장해주세요.\n",
        "* 성능지표 : MSE, R-squared Score(소수점 5째자리까지)"
      ]
    },
    {
      "cell_type": "code",
      "execution_count": 29,
      "id": "10b33a11",
      "metadata": {
        "id": "10b33a11"
      },
      "outputs": [],
      "source": [
        "# 랜덤포레스트로 모델 학습 진행 하고 성능을 평가하여 출력해 보세요.\n",
        "# 성능평가는 MSE, R-Squared Score\n",
        "\n",
        "from sklearn.ensemble import RandomForestRegressor\n",
        "\n",
        "\n",
        "rf_model = RandomForestRegressor(random_state = 1)\n",
        "\n",
        "rf_model.fit(train_x, train_y)\n",
        "\n",
        "y_pred_RF = rf_model.predict(test_x)"
      ]
    },
    {
      "cell_type": "code",
      "source": [
        "# test_y 데이터와 y_pred_LR 데이터로 성능을 평가하여 출력해보세요.\n",
        "# 성능지표는 mse와 r2를 이용하세요.\n",
        "\n",
        "print(mean_squared_error(test_y, y_pred_RF))\n",
        "print(r2_score(test_y, y_pred_RF))"
      ],
      "metadata": {
        "colab": {
          "base_uri": "https://localhost:8080/"
        },
        "id": "A9OlKoccD7wj",
        "outputId": "aaa3e1ae-357d-4a7c-e0af-644fb765d0e0"
      },
      "id": "A9OlKoccD7wj",
      "execution_count": 30,
      "outputs": [
        {
          "output_type": "stream",
          "name": "stdout",
          "text": [
            "56.36085089343937\n",
            "0.9497016566405166\n"
          ]
        }
      ]
    },
    {
      "cell_type": "code",
      "execution_count": 15,
      "id": "41971ff8",
      "metadata": {
        "colab": {
          "base_uri": "https://localhost:8080/"
        },
        "id": "41971ff8",
        "outputId": "2a1d3d0e-f384-49aa-a3a4-64be51407b93"
      },
      "outputs": [
        {
          "output_type": "execute_result",
          "data": {
            "text/plain": [
              "['/content/drive/MyDrive/project/save_models/rf_model.pkl']"
            ]
          },
          "metadata": {},
          "execution_count": 15
        }
      ],
      "source": [
        "# 학습한 모델을 파일로 저장해보세요.(joblib 활용)\n",
        "\n",
        "joblib.dump(rf_model, path + 'save_models/rf_model.pkl')"
      ]
    },
    {
      "cell_type": "markdown",
      "id": "4b942bb3",
      "metadata": {
        "id": "4b942bb3"
      },
      "source": [
        "### (2-1) 랜덤포레스트 feature_importances 확인\n",
        "* 렌덤포레스트로 학습한 모델의 feature_importances를 구해보세요."
      ]
    },
    {
      "cell_type": "code",
      "execution_count": 34,
      "id": "e19f84b0",
      "metadata": {
        "id": "e19f84b0",
        "colab": {
          "base_uri": "https://localhost:8080/",
          "height": 467
        },
        "outputId": "7b0bbfa9-c875-4d6b-ffef-0fcfc09caeb9"
      },
      "outputs": [
        {
          "output_type": "display_data",
          "data": {
            "text/plain": [
              "<Figure size 500x500 with 1 Axes>"
            ],
            "image/png": "[encoded data removed]"
          },
          "metadata": {}
        }
      ],
      "source": [
        "# 렌덤포레스트로 학습한 모델의 feature_importances를 구해보세요.\n",
        "# 아래에 필요한 코드를 작성하고 결과를 확인합니다.\n",
        "\n",
        "perf_dic = {'feature':list(train_x),\n",
        "            'importance': rf_model.feature_importances_}\n",
        "df = pd.DataFrame(perf_dic)\n",
        "df.sort_values(by='importance', ascending=True, inplace=True)\n",
        "\n",
        "# 시각화\n",
        "plt.figure(figsize=(5, 5))\n",
        "plt.barh(df['feature'], df['importance'])\n",
        "plt.title('Random Forest Importance')\n",
        "plt.show()"
      ]
    },
    {
      "cell_type": "code",
      "execution_count": 17,
      "id": "7c21c320",
      "metadata": {
        "id": "7c21c320"
      },
      "outputs": [],
      "source": [
        "# 확인 후 알수 있었던 인사이트가 있었으면 정리해보세요!\n"
      ]
    },
    {
      "cell_type": "markdown",
      "id": "95401368-9bff-4118-b07a-92b833e33f20",
      "metadata": {
        "tags": [],
        "id": "95401368-9bff-4118-b07a-92b833e33f20"
      },
      "source": [
        "### (3) 모델링: GradientBoosting"
      ]
    },
    {
      "cell_type": "markdown",
      "id": "convinced-vocabulary",
      "metadata": {
        "id": "convinced-vocabulary"
      },
      "source": [
        "* GradientBoosting: 앞선 모델의 에러를 다음 모델의 예측 값으로 활용하면서 가중치 업데이트 하는데 경사하강법(Gradient Descent)를 활용해서 최적 모델을 만드는 기법\n",
        "* Train과 Test로 나눈 데이터를 기준으로 그라디언트부스팅으로 모델을 학습을 진행하고 평가를 해주세요.\n",
        "* 그리고 모델 파일을 pkl로 저장해주세요.\n",
        "* 성능지표 : MSE, R-squared Score(소수점 5째자리까지)"
      ]
    },
    {
      "cell_type": "code",
      "source": [
        "train_x.shape"
      ],
      "metadata": {
        "colab": {
          "base_uri": "https://localhost:8080/"
        },
        "id": "DYl1PP9SFTEz",
        "outputId": "dcac771c-f2e8-43b6-b62d-cbd8c5b9d62d"
      },
      "id": "DYl1PP9SFTEz",
      "execution_count": 18,
      "outputs": [
        {
          "output_type": "execute_result",
          "data": {
            "text/plain": [
              "(8760, 25)"
            ]
          },
          "metadata": {},
          "execution_count": 18
        }
      ]
    },
    {
      "cell_type": "code",
      "execution_count": 19,
      "id": "continent-olympus",
      "metadata": {
        "id": "continent-olympus"
      },
      "outputs": [],
      "source": [
        "# 아래에 필요한 코드를 작성하고 결과를 확인합니다.\n",
        "\n",
        "# 랜덤포레스트로 모델 학습 진행 하고 성능을 평가하여 출력해 보세요.\n",
        "# 성능평가는 MSE, R-Squared Score\n",
        "\n",
        "from sklearn.ensemble import GradientBoostingRegressor\n",
        "\n",
        "\n",
        "gb_model = GradientBoostingRegressor(random_state = 1)\n",
        "\n",
        "gb_model.fit(train_x, train_y)\n",
        "\n",
        "y_pred_GB = gb_model.predict(test_x)"
      ]
    },
    {
      "cell_type": "code",
      "source": [
        "print(mean_squared_error(test_y, y_pred_GB))\n",
        "print(r2_score(test_y, y_pred_GB))"
      ],
      "metadata": {
        "colab": {
          "base_uri": "https://localhost:8080/"
        },
        "id": "XZjnYKGwFPKY",
        "outputId": "b0054b45-74db-422f-be54-9fb7e07cbc2d"
      },
      "id": "XZjnYKGwFPKY",
      "execution_count": 20,
      "outputs": [
        {
          "output_type": "stream",
          "name": "stdout",
          "text": [
            "57.170223728108475\n",
            "0.9489793447502829\n"
          ]
        }
      ]
    },
    {
      "cell_type": "code",
      "execution_count": 21,
      "id": "9bdccb80",
      "metadata": {
        "colab": {
          "base_uri": "https://localhost:8080/"
        },
        "id": "9bdccb80",
        "outputId": "32dc6679-41ae-475d-b000-a2b48ecbf7ac"
      },
      "outputs": [
        {
          "output_type": "execute_result",
          "data": {
            "text/plain": [
              "['/content/drive/MyDrive/project/save_models/gb_model.pkl']"
            ]
          },
          "metadata": {},
          "execution_count": 21
        }
      ],
      "source": [
        "# 학습한 모델을 파일로 저장해보세요.(joblib 활용)\n",
        "\n",
        "\n",
        "joblib.dump(gb_model, path + 'save_models/gb_model.pkl')"
      ]
    },
    {
      "cell_type": "markdown",
      "id": "803ed8fd",
      "metadata": {
        "id": "803ed8fd"
      },
      "source": [
        "### (3-1) 그라디언트부스팅 feature_importances 확인\n",
        "* 학습한 모델의 feature_importances를 구해보세요."
      ]
    },
    {
      "cell_type": "code",
      "execution_count": 35,
      "id": "8deba58d",
      "metadata": {
        "id": "8deba58d",
        "colab": {
          "base_uri": "https://localhost:8080/",
          "height": 467
        },
        "outputId": "5ba0346f-2282-4a42-8cd5-91b7a172d4e0"
      },
      "outputs": [
        {
          "output_type": "display_data",
          "data": {
            "text/plain": [
              "<Figure size 500x500 with 1 Axes>"
            ],
            "image/png": "[encoded data removed]"
          },
          "metadata": {}
        }
      ],
      "source": [
        "# 그라디언트부스팅으로 학습한 모델의 feature_importances를 구해보세요.\n",
        "# 아래에 필요한 코드를 작성하고 결과를 확인합니다.\n",
        "perf_dic = {'feature':list(train_x),\n",
        "            'importance': gb_model.feature_importances_}\n",
        "df = pd.DataFrame(perf_dic)\n",
        "df.sort_values(by='importance', ascending=True, inplace=True)\n",
        "\n",
        "# 시각화\n",
        "plt.figure(figsize=(5, 5))\n",
        "plt.barh(df['feature'], df['importance'])\n",
        "plt.title('Gradient Boosting Importance')\n",
        "plt.show()"
      ]
    },
    {
      "cell_type": "code",
      "execution_count": 23,
      "id": "9d1bfe7d",
      "metadata": {
        "tags": [],
        "id": "9d1bfe7d"
      },
      "outputs": [],
      "source": [
        "# 확인 후 알수 있었던 인사이트가 있었으면 정리해보세요!\n"
      ]
    },
    {
      "cell_type": "markdown",
      "id": "eb89852b-b155-4f0a-aaef-2a035caccda7",
      "metadata": {
        "tags": [],
        "id": "eb89852b-b155-4f0a-aaef-2a035caccda7"
      },
      "source": [
        "### (4) 모델링: Self Choice Model"
      ]
    },
    {
      "cell_type": "markdown",
      "id": "305bbd5b",
      "metadata": {
        "id": "305bbd5b"
      },
      "source": [
        "* Self Choice Model: 앞선 교육과정에서 배운 머신러닝 모델 중 어떤 것이든 좋습니다. 원하는 모델을 선택해서 학습을 시켜보세요.\n",
        "* Train과 Test로 나눈 데이터를 기준으로 Self Choice Model로 모델을 학습을 진행하고 평가를 해주세요.\n",
        "* 그리고 모델 파일을 pkl로 저장해주세요.\n",
        "* 성능지표 : MSE, R-squared Score(소수점 5째자리까지)"
      ]
    },
    {
      "cell_type": "code",
      "execution_count": 24,
      "id": "a2c66605",
      "metadata": {
        "id": "a2c66605"
      },
      "outputs": [],
      "source": [
        "# 아래에 필요한 코드를 작성하고 결과를 확인합니다.\n",
        "\n",
        "from lightgbm import LGBMRegressor"
      ]
    },
    {
      "cell_type": "code",
      "source": [
        "lgbm_model = LGBMRegressor(random_state = 1)\n",
        "\n",
        "lgbm_model.fit(train_x, train_y)\n",
        "\n",
        "y_pred_LGBM = lgbm_model.predict(test_x)"
      ],
      "metadata": {
        "colab": {
          "base_uri": "https://localhost:8080/"
        },
        "id": "-X_z14gbFr9J",
        "outputId": "461b8bd7-0f63-4948-9115-8dea6cdfa9a1"
      },
      "id": "-X_z14gbFr9J",
      "execution_count": 25,
      "outputs": [
        {
          "output_type": "stream",
          "name": "stdout",
          "text": [
            "[LightGBM] [Warning] Found whitespace in feature_names, replace with underlines\n",
            "[LightGBM] [Info] Auto-choosing row-wise multi-threading, the overhead of testing was 0.001926 seconds.\n",
            "You can set `force_row_wise=true` to remove the overhead.\n",
            "And if memory is not enough, you can set `force_col_wise=true`.\n",
            "[LightGBM] [Info] Total Bins 2841\n",
            "[LightGBM] [Info] Number of data points in the train set: 8760, number of used features: 25\n",
            "[LightGBM] [Info] Start training from score 31.797032\n"
          ]
        }
      ]
    },
    {
      "cell_type": "code",
      "execution_count": 26,
      "id": "546ac8bf",
      "metadata": {
        "colab": {
          "base_uri": "https://localhost:8080/"
        },
        "id": "546ac8bf",
        "outputId": "a0dc7f99-b9cd-4c5e-dc56-ba25abfecc0a"
      },
      "outputs": [
        {
          "output_type": "stream",
          "name": "stdout",
          "text": [
            "60.66828317634403\n",
            "0.9458575573317093\n"
          ]
        }
      ],
      "source": [
        "# Test 데이터로 성능을 평가해보세요.\n",
        "\n",
        "print(mean_squared_error(test_y, y_pred_LGBM))\n",
        "print(r2_score(test_y, y_pred_LGBM))"
      ]
    },
    {
      "cell_type": "code",
      "execution_count": 27,
      "id": "e69d0d7c",
      "metadata": {
        "colab": {
          "base_uri": "https://localhost:8080/"
        },
        "id": "e69d0d7c",
        "outputId": "e0753d34-6dd0-401d-d0b0-3350979fb0a1"
      },
      "outputs": [
        {
          "output_type": "execute_result",
          "data": {
            "text/plain": [
              "['/content/drive/MyDrive/project/save_models/lgbm_model.pkl']"
            ]
          },
          "metadata": {},
          "execution_count": 27
        }
      ],
      "source": [
        "# 학습한 모델을 파일로 저장해보세요.\n",
        "\n",
        "\n",
        "joblib.dump(lgbm_model, path + 'save_models/lgbm_model.pkl')"
      ]
    },
    {
      "cell_type": "code",
      "execution_count": 36,
      "id": "a8ac782c",
      "metadata": {
        "id": "a8ac782c"
      },
      "outputs": [],
      "source": [
        "# 시간이 되면 Seif choice Model로 학습한 모델의 feature_importances를 구해보세요.\n",
        "# 확인 후 알수 있었던 인사이트가 있었으면 정리해보세요!"
      ]
    },
    {
      "cell_type": "markdown",
      "id": "cb9a8cf9",
      "metadata": {
        "id": "cb9a8cf9"
      },
      "source": [
        "# 고생하셨습니다👍👍"
      ]
    }
  ],
  "metadata": {
    "kernelspec": {
      "display_name": "Python 3 (ipykernel)",
      "language": "python",
      "name": "python3"
    },
    "language_info": {
      "codemirror_mode": {
        "name": "ipython",
        "version": 3
      },
      "file_extension": ".py",
      "mimetype": "text/x-python",
      "name": "python",
      "nbconvert_exporter": "python",
      "pygments_lexer": "ipython3",
      "version": "3.11.5"
    },
    "vscode": {
      "interpreter": {
        "hash": "f08154012ddadd8e950e6e9e035c7a7b32c136e7647e9b7c77e02eb723a8bedb"
      }
    },
    "colab": {
      "provenance": []
    }
  },
  "nbformat": 4,
  "nbformat_minor": 5
}